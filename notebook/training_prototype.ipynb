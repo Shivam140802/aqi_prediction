{
 "cells": [
  {
   "cell_type": "code",
   "execution_count": 2,
   "id": "ccd44fae",
   "metadata": {},
   "outputs": [],
   "source": [
    "import pandas as pd\n",
    "import numpy as np\n",
    "import matplotlib.pyplot as plt\n",
    "import seaborn as sns"
   ]
  },
  {
   "cell_type": "code",
   "execution_count": 3,
   "id": "c4ddad58",
   "metadata": {},
   "outputs": [],
   "source": [
    "train=pd.read_csv('E:\\\\aqi_prediction\\\\artifact\\\\train.csv')\n",
    "test=pd.read_csv('E:\\\\aqi_prediction\\\\artifact\\\\test.csv')"
   ]
  },
  {
   "cell_type": "code",
   "execution_count": 8,
   "id": "d24db2bf",
   "metadata": {},
   "outputs": [],
   "source": [
    "import numpy as np\n",
    "import pandas as pd\n",
    "from sklearn.preprocessing import StandardScaler, OneHotEncoder\n",
    "from sklearn.compose import ColumnTransformer\n",
    "from sklearn.pipeline import Pipeline\n",
    "\n",
    "#train data\n",
    "X_train=train.drop('AQI', axis=1)\n",
    "y_train=train['AQI']\n",
    "\n",
    "numerical_features=X_train.select_dtypes(include=[np.number]).columns\n",
    "categorical_features=X_train.select_dtypes(include=['object']).columns\n",
    "numerical_pipeline=Pipeline(steps=[('scaler', StandardScaler())])\n",
    "categorical_pipeline=Pipeline(steps=[('onehot', OneHotEncoder(handle_unknown='ignore'))])\n",
    "preprocessor = ColumnTransformer(transformers=[('num', numerical_pipeline, numerical_features),('cat', categorical_pipeline, categorical_features)])\n",
    "X_train_transformed = preprocessor.fit_transform(X_train)\n",
    "\n",
    "#test data\n",
    "X_test=test.drop('AQI', axis=1)\n",
    "y_test=test['AQI']\n",
    "\n",
    "numerical_features=X_test.select_dtypes(include=[np.number]).columns\n",
    "categorical_features=X_test.select_dtypes(include=['object']).columns\n",
    "numerical_pipeline=Pipeline(steps=[('scaler', StandardScaler())])\n",
    "categorical_pipeline=Pipeline(steps=[('onehot', OneHotEncoder(handle_unknown='ignore'))])\n",
    "preprocessor = ColumnTransformer(transformers=[('num', numerical_pipeline, numerical_features),('cat', categorical_pipeline, categorical_features)])\n",
    "X_test_transformed = preprocessor.fit_transform(X_test)\n"
   ]
  },
  {
   "cell_type": "code",
   "execution_count": 9,
   "id": "0ff76add",
   "metadata": {},
   "outputs": [
    {
     "name": "stdout",
     "output_type": "stream",
     "text": [
      "\n",
      "Model: Linear Regression\n",
      "R-squared: 0.7046066399397025\n",
      "\n",
      "Model: Random Forest\n",
      "R-squared: 0.8577960964115999\n",
      "\n",
      "Model: Gradient Boosting\n",
      "R-squared: 0.8858498933401276\n",
      "\n",
      "Model: AdaBoost\n",
      "R-squared: 0.2382585301027178\n",
      "\n",
      "Model: Decision Tree\n",
      "R-squared: 0.668062233887743\n",
      "\n",
      "Model: XGBoost\n",
      "R-squared: 0.8957027694575089\n",
      "\n",
      "Model: CatBoost\n",
      "R-squared: 0.8981586494207845\n"
     ]
    }
   ],
   "source": [
    "from sklearn.linear_model import LinearRegression\n",
    "from sklearn.ensemble import RandomForestRegressor, GradientBoostingRegressor, AdaBoostRegressor\n",
    "from sklearn.tree import DecisionTreeRegressor\n",
    "from xgboost import XGBRegressor\n",
    "from catboost import CatBoostRegressor\n",
    "from sklearn.metrics import r2_score\n",
    "\n",
    "model_lr = LinearRegression()\n",
    "model_rf = RandomForestRegressor()\n",
    "model_gb = GradientBoostingRegressor()\n",
    "model_ada = AdaBoostRegressor()\n",
    "model_dt = DecisionTreeRegressor()\n",
    "model_xgb = XGBRegressor(verbosity=0)\n",
    "model_cat = CatBoostRegressor(verbose=0)\n",
    "\n",
    "models = [\n",
    "    (\"Linear Regression\", model_lr),\n",
    "    (\"Random Forest\", model_rf),\n",
    "    (\"Gradient Boosting\", model_gb),\n",
    "    (\"AdaBoost\", model_ada),\n",
    "    (\"Decision Tree\", model_dt),\n",
    "    (\"XGBoost\", model_xgb),\n",
    "    (\"CatBoost\", model_cat)\n",
    "]\n",
    "\n",
    "for name, model in models:\n",
    "    print(f\"\\nModel: {name}\")\n",
    "    model.fit(X_train_transformed, y_train)\n",
    "    y_pred = model.predict(X_test_transformed)\n",
    "    r2 = r2_score(y_test, y_pred)\n",
    "    print(f\"R-squared: {r2}\")\n"
   ]
  },
  {
   "cell_type": "code",
   "execution_count": 12,
   "id": "570682f4",
   "metadata": {},
   "outputs": [],
   "source": [
    "models = [\n",
    "    (\"CatBoost\", model_cat),\n",
    "    (\"XGBoost\", model_xgb),\n",
    "    (\"Gradient Boosting\", model_gb)\n",
    "]"
   ]
  },
  {
   "cell_type": "code",
   "execution_count": 15,
   "id": "1c6dc99b",
   "metadata": {},
   "outputs": [],
   "source": [
    "param_grid_cat = {\n",
    "    'iterations': [100, 200, 300],\n",
    "    'depth': [4, 6, 8, 9],\n",
    "    'learning_rate': [0.01, 0.05, 0.1],\n",
    "}\n",
    "param_grid_xgb = {\n",
    "    'n_estimators': [100, 200, 300],\n",
    "    'max_depth': [3, 5, 7, 8],\n",
    "    'learning_rate': [0.01, 0.05, 0.1]\n",
    "}\n",
    "param_grid_gb = {\n",
    "    'n_estimators': [100, 200, 300],\n",
    "    'learning_rate': [0.01, 0.05, 0.1],\n",
    "    'max_depth': [3, 5, 7, 8]\n",
    "}\n",
    "param_grid=[param_grid_cat, param_grid_xgb, param_grid_gb]"
   ]
  },
  {
   "cell_type": "code",
   "execution_count": 16,
   "id": "7a461ac5",
   "metadata": {},
   "outputs": [
    {
     "name": "stdout",
     "output_type": "stream",
     "text": [
      "Best Params: {'depth': 9, 'iterations': 300, 'learning_rate': 0.1}\n",
      "Best CV R² Score: 0.8880096472702872\n",
      "Test R-squared: 0.9061955487544032\n",
      "\n",
      "\n",
      "Best Params: {'learning_rate': 0.1, 'max_depth': 7, 'n_estimators': 200}\n",
      "Best CV R² Score: 0.8825033403789607\n",
      "Test R-squared: 0.8981361565667281\n",
      "\n",
      "\n",
      "Best Params: {'learning_rate': 0.05, 'max_depth': 7, 'n_estimators': 300}\n",
      "Best CV R² Score: 0.880298953400998\n",
      "Test R-squared: 0.8825837397896195\n",
      "\n",
      "\n"
     ]
    }
   ],
   "source": [
    "from sklearn.model_selection import GridSearchCV\n",
    "\n",
    "for (name, model),param_grid in zip(models, param_grid):\n",
    "    grid = GridSearchCV(model, param_grid=param_grid, cv=5, scoring='r2', n_jobs=-1)\n",
    "    grid.fit(X_train_transformed, y_train)\n",
    "    print(\"Best Params:\", grid.best_params_)\n",
    "    print(\"Best CV R² Score:\", grid.best_score_)\n",
    "    y_pred = grid.predict(X_test_transformed)\n",
    "    r2 = r2_score(y_test, y_pred)\n",
    "    print(f\"Test R-squared: {r2}\")\n",
    "    print(\"\\n\")"
   ]
  },
  {
   "cell_type": "code",
   "execution_count": null,
   "id": "abe00a79",
   "metadata": {},
   "outputs": [],
   "source": [
    "param_grid_cat = {\n",
    "    'depth': [6, 8, 9, 10, 11],\n",
    "    'iterations': [300, 310, 320, 330, 340],\n",
    "    'learning_rate': [0.05, 0.1, 0.15],\n",
    "    'l2_leaf_reg': [1, 3, 5, 7],\n",
    "    'bagging_temperature': [0, 0.5, 1],\n",
    "    'border_count': [32, 64, 128]\n",
    "}\n",
    "grid = GridSearchCV(model_cat, param_grid=param_grid_cat, cv=5, scoring='r2', n_jobs=-1)\n",
    "grid.fit(X_train_transformed, y_train)\n",
    "print(\"Best Params:\", grid.best_params_)\n",
    "print(\"Best CV R² Score:\", grid.best_score_)\n",
    "y_pred = grid.predict(X_test_transformed)\n",
    "r2 = r2_score(y_test, y_pred)\n",
    "print(f\"Test R-squared: {r2}\")\n",
    "print(\"\\n\")"
   ]
  }
 ],
 "metadata": {
  "kernelspec": {
   "display_name": "Python 3",
   "language": "python",
   "name": "python3"
  },
  "language_info": {
   "codemirror_mode": {
    "name": "ipython",
    "version": 3
   },
   "file_extension": ".py",
   "mimetype": "text/x-python",
   "name": "python",
   "nbconvert_exporter": "python",
   "pygments_lexer": "ipython3",
   "version": "3.11.13"
  }
 },
 "nbformat": 4,
 "nbformat_minor": 5
}
