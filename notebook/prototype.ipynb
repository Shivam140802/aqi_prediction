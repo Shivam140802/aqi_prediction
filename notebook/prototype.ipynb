{
 "cells": [
  {
   "cell_type": "code",
   "execution_count": null,
   "id": "d5942b51",
   "metadata": {},
   "outputs": [
    {
     "name": "stdout",
     "output_type": "stream",
     "text": [
      "                        _id       City        Date  PM2_5  PM10     NO    NO2  \\\n",
      "0  6853f7380a97711fe0367bda  Ahmedabad  2015-01-01    NaN   NaN   0.92  18.22   \n",
      "1  6853f7380a97711fe0367bdb  Ahmedabad  2015-01-02    NaN   NaN   0.97  15.69   \n",
      "2  6853f7380a97711fe0367bdc  Ahmedabad  2015-01-03    NaN   NaN  17.40  19.30   \n",
      "3  6853f7380a97711fe0367bdd  Ahmedabad  2015-01-04    NaN   NaN   1.70  18.48   \n",
      "4  6853f7380a97711fe0367bde  Ahmedabad  2015-01-05    NaN   NaN  22.10  21.42   \n",
      "\n",
      "     NOx  NH3     CO    SO2      O3  Benzene  Toluene  Xylene  AQI AQI_Bucket  \n",
      "0  17.15  NaN   0.92  27.64  133.36     0.00     0.02    0.00  NaN       None  \n",
      "1  16.46  NaN   0.97  24.55   34.06     3.68     5.50    3.77  NaN       None  \n",
      "2  29.70  NaN  17.40  29.07   30.70     6.80    16.40    2.25  NaN       None  \n",
      "3  17.97  NaN   1.70  18.59   36.08     4.43    10.14    1.00  NaN       None  \n",
      "4  37.76  NaN  22.10  39.33   39.31     7.01    18.89    2.78  NaN       None  \n"
     ]
    }
   ],
   "source": [
    "import pymongo\n",
    "import pandas as pd\n",
    "from pymongo import MongoClient\n",
    "import os\n",
    "from dotenv import load_dotenv\n",
    "import certifi\n",
    "\n",
    "load_dotenv()\n",
    "mongo_db_url = os.getenv(\"MONGO_DB_URL\")\n",
    "\n",
    "client = MongoClient(\n",
    "    mongo_db_url,\n",
    "    tls=True,\n",
    "    tlsCAFile=certifi.where()\n",
    ")\n",
    "\n",
    "db = client[\"ShivamAI\"]\n",
    "collection = db[\"AQI_data\"]\n",
    "\n",
    "data = pd.DataFrame(list(collection.find()))\n",
    "print(data.head())"
   ]
  }
 ],
 "metadata": {
  "kernelspec": {
   "display_name": "Python 3",
   "language": "python",
   "name": "python3"
  },
  "language_info": {
   "codemirror_mode": {
    "name": "ipython",
    "version": 3
   },
   "file_extension": ".py",
   "mimetype": "text/x-python",
   "name": "python",
   "nbconvert_exporter": "python",
   "pygments_lexer": "ipython3",
   "version": "3.11.13"
  }
 },
 "nbformat": 4,
 "nbformat_minor": 5
}
